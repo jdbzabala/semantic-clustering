{
 "cells": [
  {
   "cell_type": "markdown",
   "id": "e97294ad-cfb4-4dc6-96c5-109e933c48f6",
   "metadata": {
    "jp-MarkdownHeadingCollapsed": true,
    "tags": []
   },
   "source": [
    "### IMPORT PACKAGES"
   ]
  },
  {
   "cell_type": "code",
   "execution_count": 2,
   "id": "63ce6399-cfc6-4907-89ba-1259730a720a",
   "metadata": {
    "execution": {
     "iopub.execute_input": "2024-02-13T15:16:05.046168Z",
     "iopub.status.busy": "2024-02-13T15:16:05.045356Z",
     "iopub.status.idle": "2024-02-13T15:16:06.815215Z",
     "shell.execute_reply": "2024-02-13T15:16:06.814113Z",
     "shell.execute_reply.started": "2024-02-13T15:16:05.046137Z"
    },
    "tags": []
   },
   "outputs": [
    {
     "data": {
      "text/html": [
       "\n",
       "<script src=\"https://cdnjs.cloudflare.com/ajax/libs/jquery/2.0.3/\n",
       "jquery.min.js \"></script>\n",
       "<script>\n",
       "code_show=true; \n",
       "function code_toggle() {\n",
       " if (code_show){\n",
       " $('div.jp-CodeCell > div.jp-Cell-inputWrapper').hide();\n",
       " } else {\n",
       " $('div.jp-CodeCell > div.jp-Cell-inputWrapper').show();\n",
       " }\n",
       " code_show = !code_show\n",
       "} \n",
       "$( document ).ready(code_toggle);\n",
       "</script>\n",
       "<form action=\"javascript:code_toggle()\"><input type=\"submit\"\n",
       "    value=\"Click here to toggle on/off the raw code.\"></form>\n"
      ],
      "text/plain": [
       "<IPython.core.display.HTML object>"
      ]
     },
     "execution_count": 2,
     "metadata": {},
     "output_type": "execute_result"
    }
   ],
   "source": [
    "# Basic Data Processing Packages\n",
    "from IPython.display import Image, display, HTML\n",
    "import pandas as pd\n",
    "import numpy as np\n",
    "import re\n",
    "\n",
    "# Data Visualization\n",
    "import matplotlib.pyplot as plt\n",
    "import seaborn as sns\n",
    "import base64\n",
    "from io import BytesIO\n",
    "\n",
    "# Sklearn Packages\n",
    "from sklearn.cluster import OPTICS, cluster_optics_dbscan\n",
    "from sklearn.cluster import AgglomerativeClustering\n",
    "from scipy.cluster.hierarchy import dendrogram, linkage\n",
    "from sklearn.feature_extraction.text import TfidfVectorizer\n",
    "from sklearn.decomposition import TruncatedSVD\n",
    "from scipy.spatial.distance import euclidean\n",
    "from sklearn.feature_extraction import text\n",
    "from sklearn.cluster import KMeans\n",
    "from sklearn.base import clone\n",
    "from sklearn.metrics import (calinski_harabasz_score,\n",
    "                             davies_bouldin_score,\n",
    "                             silhouette_score)\n",
    "\n",
    "import warnings\n",
    "warnings.filterwarnings('ignore', module='seaborn')\n",
    "\n",
    "# Web Interaction and Display\n",
    "HTML(\n",
    "    \"\"\"\n",
    "<script src=\"https://cdnjs.cloudflare.com/ajax/libs/jquery/2.0.3/\n",
    "jquery.min.js \"></script>\n",
    "<script>\n",
    "code_show=true; \n",
    "function code_toggle() {\n",
    " if (code_show){\n",
    " $('div.jp-CodeCell > div.jp-Cell-inputWrapper').hide();\n",
    " } else {\n",
    " $('div.jp-CodeCell > div.jp-Cell-inputWrapper').show();\n",
    " }\n",
    " code_show = !code_show\n",
    "} \n",
    "$( document ).ready(code_toggle);\n",
    "</script>\n",
    "<form action=\"javascript:code_toggle()\"><input type=\"submit\"\n",
    "    value=\"Click here to toggle on/off the raw code.\"></form>\n",
    "\"\"\"\n",
    ")"
   ]
  },
  {
   "cell_type": "markdown",
   "id": "fc0125f2-dce0-47d7-a4df-a40e73890898",
   "metadata": {
    "tags": []
   },
   "source": [
    "### DEFINE FUNCTIONS"
   ]
  },
  {
   "cell_type": "code",
   "execution_count": 3,
   "id": "c7487766-3c69-440c-bd93-91bedbcb0660",
   "metadata": {
    "execution": {
     "iopub.execute_input": "2024-02-13T15:16:06.818279Z",
     "iopub.status.busy": "2024-02-13T15:16:06.817550Z",
     "iopub.status.idle": "2024-02-13T15:16:06.833083Z",
     "shell.execute_reply": "2024-02-13T15:16:06.831963Z",
     "shell.execute_reply.started": "2024-02-13T15:16:06.818235Z"
    },
    "tags": []
   },
   "outputs": [],
   "source": [
    "def create_vector(dataframe, stop_words, min_df=0.05, max_df=None):\n",
    "    \"\"\"Vectorize the dataframe using TfidfVectorizer\n",
    "\n",
    "    Parameters\n",
    "    ----------\n",
    "    dataframe: pandas.DataFrame\n",
    "        Dataframe that contains Review_Text column for vectorization\n",
    "    stop_words: list\n",
    "        List that contains strings not to be included in the vectorization\n",
    "    min_df: float\n",
    "        Minimum document frequency for a word to be included\n",
    "    max_df: float\n",
    "        Maximum document frequency for a word to be included\n",
    "\n",
    "    Returns\n",
    "    -------\n",
    "    vectorizer: TfidfVectorizer\n",
    "        TfidfVectorizer used on the text data\n",
    "    X: sparse matrix\n",
    "        Matrix that contains the vectorized text data\n",
    "    \"\"\"\n",
    "    vectorizer = TfidfVectorizer(min_df=0.05,\n",
    "                                 token_pattern=r\"\\b[a-zA-Z'-]+\\b\",\n",
    "                                 stop_words=stop_words)\n",
    "    X = vectorizer.fit_transform(dataframe['Review_Text'])\n",
    "    return vectorizer, X\n",
    "\n",
    "\n",
    "def get_top_words_hierarchical(X, vectorizer, predictions):\n",
    "    \"\"\"\n",
    "    Identify and return the top words for each cluster in hierarchical\n",
    "    clustering.\n",
    "\n",
    "    Parameters\n",
    "    ----------\n",
    "    X : ndarray or sparse matrix\n",
    "        The feature matrix obtained from TF-IDF vectorization, converted to\n",
    "        a dense ndarray if it was a sparse matrix.\n",
    "    vectorizer : TfidfVectorizer\n",
    "        The vectorizer that was used to transform raw text data into the\n",
    "        feature matrix X.\n",
    "    predictions: ndarray\n",
    "        The cluster labels for each instance in X obtained from\n",
    "        hierarchical clustering, as a NumPy array.\n",
    "\n",
    "    Returns\n",
    "    -------\n",
    "    top_words : pandas.DataFrame\n",
    "        A DataFrame where each column corresponds to a cluster (1 to n) \n",
    "        and contains the top 10 words that have the highest mean TF-IDF\n",
    "        score in that cluster.\n",
    "    \"\"\"\n",
    "\n",
    "    terms = vectorizer.get_feature_names_out()\n",
    "    df_disney = pd.DataFrame(X, columns=terms)\n",
    "    df_disney['Cluster'] = predictions\n",
    "    n = len(set(predictions))\n",
    "    top_words = pd.DataFrame()\n",
    "\n",
    "    for cluster in range(1, n+1):\n",
    "        df1 = df_disney[df_disney['Cluster'] == cluster].iloc[:, :-1]\n",
    "        top_words[cluster] = df1.mean().sort_values(ascending=False).index[:10]\n",
    "\n",
    "    return top_words\n",
    "\n",
    "\n",
    "def plot1(Z):\n",
    "    \"\"\"\n",
    "    Generate a dendrogram plot from hierarchical clustering data.\n",
    "\n",
    "    Parameters\n",
    "    ----------\n",
    "    Z : array_like\n",
    "        The hierarchical clustering encoded as a linkage matrix.\n",
    "\n",
    "    Returns\n",
    "    -------\n",
    "    Figure\n",
    "        A matplotlib Figure object containing the dendrogram plot.\n",
    "    \"\"\"\n",
    "    fig, ax = plt.subplots()\n",
    "    dendrogram(Z, truncate_mode='level', p=5, ax=ax)\n",
    "    ax.set_ylabel(r\"$\\Delta$\")\n",
    "    return fig\n",
    "\n",
    "\n",
    "def get_top_words(vectorizer, kmeans):\n",
    "    \"\"\"Return a DataFrame that contains the top words of each cluster\n",
    "\n",
    "    Parameters\n",
    "    ----------\n",
    "    vectorizer: TfidfVectorizer\n",
    "        Vectorizer class used in transforming the bag of words\n",
    "    kmeans: KMeans\n",
    "        Kmeans clustering class used in clustering the dataset\n",
    "\n",
    "    Returns\n",
    "    -------\n",
    "    top_words: pandas.DataFrame\n",
    "        Contains top words per cluster\n",
    "    \"\"\"\n",
    "    top_words = pd.DataFrame()\n",
    "    terms = vectorizer.get_feature_names_out()\n",
    "    n_clusters = kmeans.cluster_centers_.shape[0]\n",
    "    for n in range(n_clusters):\n",
    "        center = kmeans.cluster_centers_[n]\n",
    "        sorted_idx = np.argsort(center)[::-1][:10]\n",
    "        top_terms = [terms[idx] for idx in sorted_idx]\n",
    "        top_words['Cluster_' + str(n+1)] = top_terms\n",
    "    return top_words\n",
    "\n",
    "\n",
    "def kmeans_clustering(X, n_cluster=10):\n",
    "    \"\"\"Perform KMeans clusterin on the dataset\n",
    "\n",
    "    Parameters\n",
    "    ----------\n",
    "    X: array-like\n",
    "        Contains the data to be clustered\n",
    "    n_cluster: int\n",
    "        The number of clusters to be used in KMeans\n",
    "\n",
    "    Returns\n",
    "    -------\n",
    "    clusterer: KMeans\n",
    "        KMeans clusterer object used in clustering\n",
    "    prediction: numpy.array\n",
    "        Array that contains cluster labels for the dataset\n",
    "    \"\"\"\n",
    "    kmeans = KMeans(n_clusters=n_cluster, random_state=69, n_init=\"auto\")\n",
    "    predictions = kmeans.fit_predict(X)\n",
    "    return kmeans, predictions"
   ]
  },
  {
   "cell_type": "markdown",
   "id": "697ed171-0342-47ab-be80-76ab6a5b8b7d",
   "metadata": {},
   "source": [
    "# LOAD THE DATA"
   ]
  },
  {
   "cell_type": "code",
   "execution_count": 9,
   "id": "ffb6e9ad-df3e-4c65-9ff9-4be4ef848c7f",
   "metadata": {
    "execution": {
     "iopub.execute_input": "2024-02-13T15:21:01.277248Z",
     "iopub.status.busy": "2024-02-13T15:21:01.276850Z",
     "iopub.status.idle": "2024-02-13T15:21:01.655760Z",
     "shell.execute_reply": "2024-02-13T15:21:01.654821Z",
     "shell.execute_reply.started": "2024-02-13T15:21:01.277207Z"
    },
    "tags": []
   },
   "outputs": [],
   "source": [
    "# Import the Dataset\n",
    "df = pd.read_csv(\n",
    "    \"/mnt/data/public/disneyland-reviews/DisneylandReviews.csv\",\n",
    "    encoding=\"ISO-8859-1\"\n",
    ")"
   ]
  },
  {
   "cell_type": "code",
   "execution_count": 10,
   "id": "91aec130-c756-4a32-b74b-796f47bfc105",
   "metadata": {
    "execution": {
     "iopub.execute_input": "2024-02-13T15:21:02.022075Z",
     "iopub.status.busy": "2024-02-13T15:21:02.021655Z",
     "iopub.status.idle": "2024-02-13T15:21:02.032133Z",
     "shell.execute_reply": "2024-02-13T15:21:02.030612Z",
     "shell.execute_reply.started": "2024-02-13T15:21:02.022040Z"
    },
    "tags": []
   },
   "outputs": [
    {
     "data": {
      "text/plain": [
       "Review_ID             int64\n",
       "Rating                int64\n",
       "Year_Month           object\n",
       "Reviewer_Location    object\n",
       "Review_Text          object\n",
       "Branch               object\n",
       "dtype: object"
      ]
     },
     "execution_count": 10,
     "metadata": {},
     "output_type": "execute_result"
    }
   ],
   "source": [
    "df.dtypes"
   ]
  },
  {
   "cell_type": "code",
   "execution_count": 11,
   "id": "e4d7b14c-1eb8-427c-8124-b289fbc6dd05",
   "metadata": {
    "execution": {
     "iopub.execute_input": "2024-02-13T15:21:02.524274Z",
     "iopub.status.busy": "2024-02-13T15:21:02.523680Z",
     "iopub.status.idle": "2024-02-13T15:21:02.543335Z",
     "shell.execute_reply": "2024-02-13T15:21:02.541782Z",
     "shell.execute_reply.started": "2024-02-13T15:21:02.524228Z"
    },
    "tags": []
   },
   "outputs": [],
   "source": [
    "# Split the Data\n",
    "df_pos = df[(df.Rating == 4) | (df.Rating == 5)].copy()\n",
    "df_neg = df[(df.Rating == 1) | (df.Rating == 2) | (df.Rating == 3)].copy()"
   ]
  },
  {
   "cell_type": "code",
   "execution_count": 12,
   "id": "b81c1cb2-bd81-4e44-8770-0a3bb0710414",
   "metadata": {
    "execution": {
     "iopub.execute_input": "2024-02-13T15:21:02.894344Z",
     "iopub.status.busy": "2024-02-13T15:21:02.893326Z",
     "iopub.status.idle": "2024-02-13T15:21:05.455425Z",
     "shell.execute_reply": "2024-02-13T15:21:05.454352Z",
     "shell.execute_reply.started": "2024-02-13T15:21:02.894296Z"
    },
    "tags": []
   },
   "outputs": [],
   "source": [
    "addl_stop_words = {'hongkong','hong','kong','paris','california','disney',\n",
    "                   'disneyland','florida','hk',\"it's\",'t','s'}\n",
    "stop_words = list(text.ENGLISH_STOP_WORDS.union(addl_stop_words))\n",
    "vectorizer_pos, X_pos = create_vector(df_pos, stop_words, min_df=0.05)"
   ]
  },
  {
   "cell_type": "code",
   "execution_count": 13,
   "id": "ff4513e1-3a00-40b4-99fe-f5c868518693",
   "metadata": {
    "execution": {
     "iopub.execute_input": "2024-02-13T15:21:05.457279Z",
     "iopub.status.busy": "2024-02-13T15:21:05.457033Z",
     "iopub.status.idle": "2024-02-13T15:21:06.342584Z",
     "shell.execute_reply": "2024-02-13T15:21:06.341832Z",
     "shell.execute_reply.started": "2024-02-13T15:21:05.457251Z"
    },
    "tags": []
   },
   "outputs": [],
   "source": [
    "addl_stop_words = {'hongkong','hong','kong','paris','california','disney',\n",
    "                   'disneyland','florida','hk',\"it's\",'t','s', 'day', 'good',\n",
    "                   'fun', 'great', 'like', 'love', 'visit', 'kids',\n",
    "                   'children', 'adults', 'really', 'just', 'park', 'parks',\n",
    "                   'ride', 'rides'}\n",
    "stop_words = list(text.ENGLISH_STOP_WORDS.union(addl_stop_words))\n",
    "vectorizer_neg, X_neg = create_vector(df_neg, stop_words, min_df=0.05)"
   ]
  },
  {
   "cell_type": "markdown",
   "id": "da2a8405-8bf2-4fc2-bb3e-e459add78ca8",
   "metadata": {},
   "source": [
    "# HEIRARCHICAL"
   ]
  },
  {
   "cell_type": "markdown",
   "id": "7e3909fd-c616-488f-a33e-2ea19caa3a59",
   "metadata": {},
   "source": [
    "## COMPLETE LINKAGE ON NEGATIVE REVIEWS"
   ]
  },
  {
   "cell_type": "code",
   "execution_count": 28,
   "id": "e46bf29b-03e9-4c4f-8287-187f6a467cc8",
   "metadata": {
    "execution": {
     "iopub.execute_input": "2024-02-13T10:55:25.900961Z",
     "iopub.status.busy": "2024-02-13T10:55:25.900242Z",
     "iopub.status.idle": "2024-02-13T11:22:31.920934Z",
     "shell.execute_reply": "2024-02-13T11:22:31.919235Z",
     "shell.execute_reply.started": "2024-02-13T10:55:25.900891Z"
    },
    "tags": []
   },
   "outputs": [
    {
     "data": {
      "image/png": "[encoded data removed]",
      "text/plain": [
       "<Figure size 640x480 with 1 Axes>"
      ]
     },
     "metadata": {},
     "output_type": "display_data"
    },
    {
     "data": {
      "image/png": "[encoded data removed]",
      "text/plain": [
       "<Figure size 640x480 with 1 Axes>"
      ]
     },
     "metadata": {},
     "output_type": "display_data"
    }
   ],
   "source": [
    "Z = linkage(X_neg.toarray(), method=\"complete\", optimal_ordering=True)\n",
    "fig, ax = plt.subplots()\n",
    "dn = dendrogram(Z, ax=ax)\n",
    "ax.set_ylabel(r\"$h$\");\n",
    "plot1(Z);"
   ]
  },
  {
   "cell_type": "markdown",
   "id": "13c0ca32-584f-4d1c-b62f-5d6a6080f93e",
   "metadata": {},
   "source": [
    "For the complete linkage clustering, we can observe that the uniformity in the height of the first linkage of most clusters (the very short vertical lines at the bottom of the dendrogram) indicates that within individual clusters, the words are quite similar."
   ]
  },
  {
   "cell_type": "code",
   "execution_count": 15,
   "id": "5714834d-3967-4e9e-b8f0-f1d7b9dd2a86",
   "metadata": {
    "execution": {
     "iopub.execute_input": "2024-02-13T15:21:40.549709Z",
     "iopub.status.busy": "2024-02-13T15:21:40.549173Z",
     "iopub.status.idle": "2024-02-13T15:21:47.338649Z",
     "shell.execute_reply": "2024-02-13T15:21:47.337819Z",
     "shell.execute_reply.started": "2024-02-13T15:21:40.549663Z"
    },
    "tags": []
   },
   "outputs": [],
   "source": [
    "agg_complete = AgglomerativeClustering(n_clusters=10, linkage=\"complete\")\n",
    "predictions_complete = agg_complete.fit_predict(X_neg.toarray())"
   ]
  },
  {
   "cell_type": "code",
   "execution_count": 16,
   "id": "0a2c3cab-165f-4c73-aead-e7bb3094d066",
   "metadata": {
    "execution": {
     "iopub.execute_input": "2024-02-13T15:21:49.188909Z",
     "iopub.status.busy": "2024-02-13T15:21:49.188600Z",
     "iopub.status.idle": "2024-02-13T15:21:49.227391Z",
     "shell.execute_reply": "2024-02-13T15:21:49.226603Z",
     "shell.execute_reply.started": "2024-02-13T15:21:49.188886Z"
    },
    "tags": []
   },
   "outputs": [
    {
     "data": {
      "text/html": [
       "<div>\n",
       "<style scoped>\n",
       "    .dataframe tbody tr th:only-of-type {\n",
       "        vertical-align: middle;\n",
       "    }\n",
       "\n",
       "    .dataframe tbody tr th {\n",
       "        vertical-align: top;\n",
       "    }\n",
       "\n",
       "    .dataframe thead th {\n",
       "        text-align: right;\n",
       "    }\n",
       "</style>\n",
       "<table border=\"1\" class=\"dataframe\">\n",
       "  <thead>\n",
       "    <tr style=\"text-align: right;\">\n",
       "      <th></th>\n",
       "      <th>1</th>\n",
       "      <th>2</th>\n",
       "      <th>3</th>\n",
       "      <th>4</th>\n",
       "      <th>5</th>\n",
       "      <th>6</th>\n",
       "      <th>7</th>\n",
       "      <th>8</th>\n",
       "      <th>9</th>\n",
       "      <th>10</th>\n",
       "    </tr>\n",
       "  </thead>\n",
       "  <tbody>\n",
       "    <tr>\n",
       "      <th>0</th>\n",
       "      <td>attractions</td>\n",
       "      <td>happy</td>\n",
       "      <td>cast</td>\n",
       "      <td>year</td>\n",
       "      <td>small</td>\n",
       "      <td>hotel</td>\n",
       "      <td>time</td>\n",
       "      <td>land</td>\n",
       "      <td>mountain</td>\n",
       "      <td>able</td>\n",
       "    </tr>\n",
       "    <tr>\n",
       "      <th>1</th>\n",
       "      <td>closed</td>\n",
       "      <td>pay</td>\n",
       "      <td>members</td>\n",
       "      <td>old</td>\n",
       "      <td>years</td>\n",
       "      <td>stayed</td>\n",
       "      <td>french</td>\n",
       "      <td>crowded</td>\n",
       "      <td>space</td>\n",
       "      <td>actually</td>\n",
       "    </tr>\n",
       "    <tr>\n",
       "      <th>2</th>\n",
       "      <td>hours</td>\n",
       "      <td>time</td>\n",
       "      <td>time</td>\n",
       "      <td>prices</td>\n",
       "      <td>ago</td>\n",
       "      <td>food</td>\n",
       "      <td>food</td>\n",
       "      <td>time</td>\n",
       "      <td>went</td>\n",
       "      <td>adventure</td>\n",
       "    </tr>\n",
       "    <tr>\n",
       "      <th>3</th>\n",
       "      <td>hour</td>\n",
       "      <td>close</td>\n",
       "      <td>rude</td>\n",
       "      <td>food</td>\n",
       "      <td>time</td>\n",
       "      <td>open</td>\n",
       "      <td>disappointing</td>\n",
       "      <td>theme</td>\n",
       "      <td>thunder</td>\n",
       "      <td>ago</td>\n",
       "    </tr>\n",
       "    <tr>\n",
       "      <th>4</th>\n",
       "      <td>looking</td>\n",
       "      <td>food</td>\n",
       "      <td>people</td>\n",
       "      <td>time</td>\n",
       "      <td>week</td>\n",
       "      <td>time</td>\n",
       "      <td>staff</td>\n",
       "      <td>way</td>\n",
       "      <td>time</td>\n",
       "      <td>area</td>\n",
       "    </tr>\n",
       "    <tr>\n",
       "      <th>5</th>\n",
       "      <td>time</td>\n",
       "      <td>staff</td>\n",
       "      <td>pass</td>\n",
       "      <td>bad</td>\n",
       "      <td>compared</td>\n",
       "      <td>went</td>\n",
       "      <td>small</td>\n",
       "      <td>bit</td>\n",
       "      <td>big</td>\n",
       "      <td>areas</td>\n",
       "    </tr>\n",
       "    <tr>\n",
       "      <th>6</th>\n",
       "      <td>went</td>\n",
       "      <td>place</td>\n",
       "      <td>fast</td>\n",
       "      <td>long</td>\n",
       "      <td>place</td>\n",
       "      <td>hours</td>\n",
       "      <td>don't</td>\n",
       "      <td>people</td>\n",
       "      <td>closed</td>\n",
       "      <td>arrived</td>\n",
       "    </tr>\n",
       "    <tr>\n",
       "      <th>7</th>\n",
       "      <td>staff</td>\n",
       "      <td>didn't</td>\n",
       "      <td>told</td>\n",
       "      <td>people</td>\n",
       "      <td>hot</td>\n",
       "      <td>staff</td>\n",
       "      <td>parade</td>\n",
       "      <td>half</td>\n",
       "      <td>days</td>\n",
       "      <td>attraction</td>\n",
       "    </tr>\n",
       "    <tr>\n",
       "      <th>8</th>\n",
       "      <td>huge</td>\n",
       "      <td>need</td>\n",
       "      <td>staff</td>\n",
       "      <td>fast</td>\n",
       "      <td>world</td>\n",
       "      <td>early</td>\n",
       "      <td>better</td>\n",
       "      <td>place</td>\n",
       "      <td>having</td>\n",
       "      <td>attractions</td>\n",
       "    </tr>\n",
       "    <tr>\n",
       "      <th>9</th>\n",
       "      <td>people</td>\n",
       "      <td>service</td>\n",
       "      <td>line</td>\n",
       "      <td>closed</td>\n",
       "      <td>ones</td>\n",
       "      <td>queues</td>\n",
       "      <td>expensive</td>\n",
       "      <td>food</td>\n",
       "      <td>times</td>\n",
       "      <td>away</td>\n",
       "    </tr>\n",
       "  </tbody>\n",
       "</table>\n",
       "</div>"
      ],
      "text/plain": [
       "            1        2        3       4         5       6              7   \\\n",
       "0  attractions    happy     cast    year     small   hotel           time   \n",
       "1       closed      pay  members     old     years  stayed         french   \n",
       "2        hours     time     time  prices       ago    food           food   \n",
       "3         hour    close     rude    food      time    open  disappointing   \n",
       "4      looking     food   people    time      week    time          staff   \n",
       "5         time    staff     pass     bad  compared    went          small   \n",
       "6         went    place     fast    long     place   hours          don't   \n",
       "7        staff   didn't     told  people       hot   staff         parade   \n",
       "8         huge     need    staff    fast     world   early         better   \n",
       "9       people  service     line  closed      ones  queues      expensive   \n",
       "\n",
       "        8         9            10  \n",
       "0     land  mountain         able  \n",
       "1  crowded     space     actually  \n",
       "2     time      went    adventure  \n",
       "3    theme   thunder          ago  \n",
       "4      way      time         area  \n",
       "5      bit       big        areas  \n",
       "6   people    closed      arrived  \n",
       "7     half      days   attraction  \n",
       "8    place    having  attractions  \n",
       "9     food     times         away  "
      ]
     },
     "execution_count": 16,
     "metadata": {},
     "output_type": "execute_result"
    }
   ],
   "source": [
    "get_top_words_hierarchical(\n",
    "    X_neg.toarray(),\n",
    "    vectorizer_neg,\n",
    "    predictions_complete)"
   ]
  },
  {
   "cell_type": "markdown",
   "id": "bdf8de8b-58cd-42fc-a9bb-f0228353f1a7",
   "metadata": {},
   "source": [
    "## WARD'S LINKAGE FOR NEGATIVE REVIEWS"
   ]
  },
  {
   "cell_type": "code",
   "execution_count": 29,
   "id": "3cd03265-f60b-455b-952a-308e0c796cab",
   "metadata": {
    "execution": {
     "iopub.execute_input": "2024-02-13T11:22:31.924031Z",
     "iopub.status.busy": "2024-02-13T11:22:31.923371Z",
     "iopub.status.idle": "2024-02-13T12:01:28.575326Z",
     "shell.execute_reply": "2024-02-13T12:01:28.573724Z",
     "shell.execute_reply.started": "2024-02-13T11:22:31.923970Z"
    },
    "tags": []
   },
   "outputs": [
    {
     "data": {
      "image/png": "[encoded data removed]",
      "text/plain": [
       "<Figure size 640x480 with 1 Axes>"
      ]
     },
     "metadata": {},
     "output_type": "display_data"
    },
    {
     "data": {
      "image/png": "[encoded data removed]",
      "text/plain": [
       "<Figure size 640x480 with 1 Axes>"
      ]
     },
     "metadata": {},
     "output_type": "display_data"
    }
   ],
   "source": [
    "Z = linkage(dense_X_neg, method=\"ward\", optimal_ordering=True)\n",
    "fig, ax = plt.subplots()\n",
    "dn = dendrogram(Z, ax=ax)\n",
    "ax.set_ylabel(r\"$h$\");\n",
    "plot1(Z);"
   ]
  },
  {
   "cell_type": "markdown",
   "id": "cf3d1267-8bee-462d-92f0-7b390dfd949c",
   "metadata": {},
   "source": [
    "For the ward clustering dendrogram for Disneyland's negative reviews indicates a hierarchical structure where clusters are merged based on minimizing the variance within clusters. It shows a range of cluster sizes, with several large clusters (indicated by long vertical lines) and numerous smaller clusters. This method tends to create more compact clusters compared to complete linkage."
   ]
  },
  {
   "cell_type": "code",
   "execution_count": 17,
   "id": "acf8b8ca-5d49-4169-baa9-d91adabe569b",
   "metadata": {
    "execution": {
     "iopub.execute_input": "2024-02-13T15:22:15.841371Z",
     "iopub.status.busy": "2024-02-13T15:22:15.841013Z",
     "iopub.status.idle": "2024-02-13T15:22:22.676002Z",
     "shell.execute_reply": "2024-02-13T15:22:22.674880Z",
     "shell.execute_reply.started": "2024-02-13T15:22:15.841342Z"
    },
    "tags": []
   },
   "outputs": [],
   "source": [
    "agg = AgglomerativeClustering(n_clusters=10, linkage=\"ward\")\n",
    "predictions = agg.fit_predict(X_neg.toarray())"
   ]
  },
  {
   "cell_type": "markdown",
   "id": "ea644c5e-784b-46f2-8db1-bb0a6e3ce344",
   "metadata": {},
   "source": [
    "The DataFrame indicates the top words for each cluster obtained from a complete linkage hierarchical clustering of the dataset. Each column represents a cluster (from 1 to 10), and each row contains the top terms that are top words of the reviews within that cluster, based on the mean TF-IDF value of the terms."
   ]
  },
  {
   "cell_type": "code",
   "execution_count": 19,
   "id": "2758e142-8570-4abe-a648-97ecc023e8fa",
   "metadata": {
    "execution": {
     "iopub.execute_input": "2024-02-13T15:22:32.389818Z",
     "iopub.status.busy": "2024-02-13T15:22:32.389022Z",
     "iopub.status.idle": "2024-02-13T15:22:32.447831Z",
     "shell.execute_reply": "2024-02-13T15:22:32.446631Z",
     "shell.execute_reply.started": "2024-02-13T15:22:32.389787Z"
    },
    "tags": []
   },
   "outputs": [
    {
     "data": {
      "text/html": [
       "<div>\n",
       "<style scoped>\n",
       "    .dataframe tbody tr th:only-of-type {\n",
       "        vertical-align: middle;\n",
       "    }\n",
       "\n",
       "    .dataframe tbody tr th {\n",
       "        vertical-align: top;\n",
       "    }\n",
       "\n",
       "    .dataframe thead th {\n",
       "        text-align: right;\n",
       "    }\n",
       "</style>\n",
       "<table border=\"1\" class=\"dataframe\">\n",
       "  <thead>\n",
       "    <tr style=\"text-align: right;\">\n",
       "      <th></th>\n",
       "      <th>1</th>\n",
       "      <th>2</th>\n",
       "      <th>3</th>\n",
       "      <th>4</th>\n",
       "      <th>5</th>\n",
       "      <th>6</th>\n",
       "      <th>7</th>\n",
       "      <th>8</th>\n",
       "      <th>9</th>\n",
       "      <th>10</th>\n",
       "    </tr>\n",
       "  </thead>\n",
       "  <tbody>\n",
       "    <tr>\n",
       "      <th>0</th>\n",
       "      <td>time</td>\n",
       "      <td>queue</td>\n",
       "      <td>food</td>\n",
       "      <td>orlando</td>\n",
       "      <td>cast</td>\n",
       "      <td>fast</td>\n",
       "      <td>line</td>\n",
       "      <td>staff</td>\n",
       "      <td>tickets</td>\n",
       "      <td>able</td>\n",
       "    </tr>\n",
       "    <tr>\n",
       "      <th>1</th>\n",
       "      <td>people</td>\n",
       "      <td>queues</td>\n",
       "      <td>hotel</td>\n",
       "      <td>world</td>\n",
       "      <td>members</td>\n",
       "      <td>pass</td>\n",
       "      <td>lines</td>\n",
       "      <td>rude</td>\n",
       "      <td>ticket</td>\n",
       "      <td>actually</td>\n",
       "    </tr>\n",
       "    <tr>\n",
       "      <th>2</th>\n",
       "      <td>place</td>\n",
       "      <td>time</td>\n",
       "      <td>expensive</td>\n",
       "      <td>compared</td>\n",
       "      <td>rude</td>\n",
       "      <td>passes</td>\n",
       "      <td>wait</td>\n",
       "      <td>french</td>\n",
       "      <td>buy</td>\n",
       "      <td>adventure</td>\n",
       "    </tr>\n",
       "    <tr>\n",
       "      <th>3</th>\n",
       "      <td>food</td>\n",
       "      <td>long</td>\n",
       "      <td>service</td>\n",
       "      <td>small</td>\n",
       "      <td>time</td>\n",
       "      <td>time</td>\n",
       "      <td>minutes</td>\n",
       "      <td>people</td>\n",
       "      <td>price</td>\n",
       "      <td>ago</td>\n",
       "    </tr>\n",
       "    <tr>\n",
       "      <th>4</th>\n",
       "      <td>went</td>\n",
       "      <td>hour</td>\n",
       "      <td>prices</td>\n",
       "      <td>experience</td>\n",
       "      <td>magic</td>\n",
       "      <td>wait</td>\n",
       "      <td>long</td>\n",
       "      <td>time</td>\n",
       "      <td>time</td>\n",
       "      <td>area</td>\n",
       "    </tr>\n",
       "    <tr>\n",
       "      <th>5</th>\n",
       "      <td>staff</td>\n",
       "      <td>people</td>\n",
       "      <td>staff</td>\n",
       "      <td>went</td>\n",
       "      <td>don't</td>\n",
       "      <td>use</td>\n",
       "      <td>time</td>\n",
       "      <td>queue</td>\n",
       "      <td>line</td>\n",
       "      <td>areas</td>\n",
       "    </tr>\n",
       "    <tr>\n",
       "      <th>6</th>\n",
       "      <td>small</td>\n",
       "      <td>minutes</td>\n",
       "      <td>time</td>\n",
       "      <td>better</td>\n",
       "      <td>times</td>\n",
       "      <td>got</td>\n",
       "      <td>crowded</td>\n",
       "      <td>food</td>\n",
       "      <td>food</td>\n",
       "      <td>arrived</td>\n",
       "    </tr>\n",
       "    <tr>\n",
       "      <th>7</th>\n",
       "      <td>experience</td>\n",
       "      <td>food</td>\n",
       "      <td>poor</td>\n",
       "      <td>visited</td>\n",
       "      <td>people</td>\n",
       "      <td>hours</td>\n",
       "      <td>people</td>\n",
       "      <td>told</td>\n",
       "      <td>expensive</td>\n",
       "      <td>attraction</td>\n",
       "    </tr>\n",
       "    <tr>\n",
       "      <th>8</th>\n",
       "      <td>long</td>\n",
       "      <td>characters</td>\n",
       "      <td>overpriced</td>\n",
       "      <td>disappointed</td>\n",
       "      <td>world</td>\n",
       "      <td>long</td>\n",
       "      <td>crowds</td>\n",
       "      <td>experience</td>\n",
       "      <td>got</td>\n",
       "      <td>attractions</td>\n",
       "    </tr>\n",
       "    <tr>\n",
       "      <th>9</th>\n",
       "      <td>did</td>\n",
       "      <td>hours</td>\n",
       "      <td>water</td>\n",
       "      <td>time</td>\n",
       "      <td>service</td>\n",
       "      <td>line</td>\n",
       "      <td>waiting</td>\n",
       "      <td>don't</td>\n",
       "      <td>long</td>\n",
       "      <td>away</td>\n",
       "    </tr>\n",
       "  </tbody>\n",
       "</table>\n",
       "</div>"
      ],
      "text/plain": [
       "           1           2           3             4        5       6        7   \\\n",
       "0        time       queue        food       orlando     cast    fast     line   \n",
       "1      people      queues       hotel         world  members    pass    lines   \n",
       "2       place        time   expensive      compared     rude  passes     wait   \n",
       "3        food        long     service         small     time    time  minutes   \n",
       "4        went        hour      prices    experience    magic    wait     long   \n",
       "5       staff      people       staff          went    don't     use     time   \n",
       "6       small     minutes        time        better    times     got  crowded   \n",
       "7  experience        food        poor       visited   people   hours   people   \n",
       "8        long  characters  overpriced  disappointed    world    long   crowds   \n",
       "9         did       hours       water          time  service    line  waiting   \n",
       "\n",
       "           8          9            10  \n",
       "0       staff    tickets         able  \n",
       "1        rude     ticket     actually  \n",
       "2      french        buy    adventure  \n",
       "3      people      price          ago  \n",
       "4        time       time         area  \n",
       "5       queue       line        areas  \n",
       "6        food       food      arrived  \n",
       "7        told  expensive   attraction  \n",
       "8  experience        got  attractions  \n",
       "9       don't       long         away  "
      ]
     },
     "execution_count": 19,
     "metadata": {},
     "output_type": "execute_result"
    }
   ],
   "source": [
    "get_top_words_hierarchical(X_neg.toarray(), vectorizer_neg, predictions)"
   ]
  },
  {
   "cell_type": "markdown",
   "id": "c1a1e6a5-ebd3-4233-a8f7-72b907069459",
   "metadata": {},
   "source": [
    "# OPTICS"
   ]
  },
  {
   "cell_type": "markdown",
   "id": "3b21104b-ed0e-4854-a322-f6f5339b975f",
   "metadata": {},
   "source": [
    "## POSITIVE REVIEWS"
   ]
  },
  {
   "cell_type": "code",
   "execution_count": 84,
   "id": "501fae24-919f-43a3-ad8a-87b220a87acf",
   "metadata": {
    "execution": {
     "iopub.execute_input": "2024-02-13T13:14:25.523615Z",
     "iopub.status.busy": "2024-02-13T13:14:25.522847Z",
     "iopub.status.idle": "2024-02-13T13:23:24.677081Z",
     "shell.execute_reply": "2024-02-13T13:23:24.676289Z",
     "shell.execute_reply.started": "2024-02-13T13:14:25.523548Z"
    },
    "tags": []
   },
   "outputs": [
    {
     "data": {
      "image/png": "[encoded data removed]",
      "text/plain": [
       "<Figure size 640x480 with 1 Axes>"
      ]
     },
     "metadata": {},
     "output_type": "display_data"
    }
   ],
   "source": [
    "from sklearn.cluster import OPTICS, cluster_optics_dbscan\n",
    "\n",
    "optics = OPTICS(min_samples=10, cluster_method=\"dbscan\")\n",
    "dense_X_pos = X_pos.toarray()\n",
    "optics.fit(dense_X_pos)\n",
    "plt.plot(optics.reachability_[optics.ordering_], \".-\")\n",
    "plt.ylabel(\"reachability\")\n",
    "plt.show()\n"
   ]
  },
  {
   "cell_type": "markdown",
   "id": "cb85cd93-8766-4cb8-a8d4-173a43847306",
   "metadata": {},
   "source": [
    "# NEGATIVE REVIEWS"
   ]
  },
  {
   "cell_type": "code",
   "execution_count": 85,
   "id": "d01ffff1-a86a-49ef-942e-f439044bf9a4",
   "metadata": {
    "execution": {
     "iopub.execute_input": "2024-02-13T13:23:24.678767Z",
     "iopub.status.busy": "2024-02-13T13:23:24.678507Z",
     "iopub.status.idle": "2024-02-13T13:24:08.362030Z",
     "shell.execute_reply": "2024-02-13T13:24:08.360910Z",
     "shell.execute_reply.started": "2024-02-13T13:23:24.678743Z"
    },
    "tags": []
   },
   "outputs": [
    {
     "data": {
      "image/png": "[encoded data removed]",
      "text/plain": [
       "<Figure size 640x480 with 1 Axes>"
      ]
     },
     "metadata": {},
     "output_type": "display_data"
    }
   ],
   "source": [
    "from sklearn.cluster import OPTICS, cluster_optics_dbscan\n",
    "\n",
    "optics = OPTICS(min_samples=10, cluster_method=\"dbscan\")\n",
    "dense_X_neg = X_neg.toarray()\n",
    "optics.fit(dense_X_neg)\n",
    "plt.plot(optics.reachability_[optics.ordering_], \".-\")\n",
    "plt.ylabel(\"reachability\")\n",
    "plt.show()"
   ]
  },
  {
   "cell_type": "markdown",
   "id": "a12637d8-26ad-4c51-8a1c-d702fde21b8e",
   "metadata": {},
   "source": [
    "# DIMENSIONALITY REDUCTION + KMEANS"
   ]
  },
  {
   "cell_type": "code",
   "execution_count": 20,
   "id": "de71e7b2-6a8d-4eca-8abc-1ae2320ef2fe",
   "metadata": {
    "execution": {
     "iopub.execute_input": "2024-02-13T15:22:42.725476Z",
     "iopub.status.busy": "2024-02-13T15:22:42.724916Z",
     "iopub.status.idle": "2024-02-13T15:22:45.966236Z",
     "shell.execute_reply": "2024-02-13T15:22:45.965327Z",
     "shell.execute_reply.started": "2024-02-13T15:22:42.725431Z"
    },
    "tags": []
   },
   "outputs": [
    {
     "data": {
      "image/png": "[encoded data removed]",
      "text/plain": [
       "<Figure size 640x480 with 2 Axes>"
      ]
     },
     "metadata": {},
     "output_type": "display_data"
    }
   ],
   "source": [
    "svd = TruncatedSVD(n_components=X_neg.shape[1])\n",
    "svd.fit(X_neg)\n",
    "sigma = svd.singular_values_\n",
    "nssd = np.square(sigma)/(np.square(sigma).sum())\n",
    "fig, ax = plt.subplots()\n",
    "ax.plot(range(1, len(nssd)+1), nssd, '-', label='individual')\n",
    "ax.set_xlim(0, len(nssd)+1)\n",
    "ax.set_xlabel('SV')\n",
    "ax.set_ylabel('variance explained')\n",
    "ax = ax.twinx()\n",
    "ax.plot(range(1, len(nssd)+1), nssd.cumsum(), 'r-', label='cumulative')\n",
    "ax.axhline(0.9, ls='--', color='g')\n",
    "ax.axvline(158, ls='--', color='g')\n",
    "ax.set_ylabel('cumulative variance explained');"
   ]
  },
  {
   "cell_type": "code",
   "execution_count": 21,
   "id": "95fa6bbb-04f0-476c-afdb-e6849332e3f3",
   "metadata": {
    "execution": {
     "iopub.execute_input": "2024-02-13T15:22:45.968100Z",
     "iopub.status.busy": "2024-02-13T15:22:45.967842Z",
     "iopub.status.idle": "2024-02-13T15:22:46.073861Z",
     "shell.execute_reply": "2024-02-13T15:22:46.072620Z",
     "shell.execute_reply.started": "2024-02-13T15:22:45.968074Z"
    },
    "tags": []
   },
   "outputs": [],
   "source": [
    "kmeans, predict = kmeans_clustering(X_neg, n_cluster=10)"
   ]
  },
  {
   "cell_type": "code",
   "execution_count": 22,
   "id": "e98ada0d-07de-4a55-864d-ea24a5d815ae",
   "metadata": {
    "execution": {
     "iopub.execute_input": "2024-02-13T15:22:46.075499Z",
     "iopub.status.busy": "2024-02-13T15:22:46.075181Z",
     "iopub.status.idle": "2024-02-13T15:22:46.081217Z",
     "shell.execute_reply": "2024-02-13T15:22:46.080402Z",
     "shell.execute_reply.started": "2024-02-13T15:22:46.075468Z"
    },
    "tags": []
   },
   "outputs": [],
   "source": [
    "df_neg['Cluster'] = predict"
   ]
  },
  {
   "cell_type": "code",
   "execution_count": 23,
   "id": "9b7d6434-028e-49d2-9f4b-e5eb1399275f",
   "metadata": {
    "execution": {
     "iopub.execute_input": "2024-02-13T15:22:46.083808Z",
     "iopub.status.busy": "2024-02-13T15:22:46.083130Z",
     "iopub.status.idle": "2024-02-13T15:22:46.102436Z",
     "shell.execute_reply": "2024-02-13T15:22:46.101480Z",
     "shell.execute_reply.started": "2024-02-13T15:22:46.083782Z"
    },
    "tags": []
   },
   "outputs": [
    {
     "data": {
      "text/html": [
       "<div>\n",
       "<style scoped>\n",
       "    .dataframe tbody tr th:only-of-type {\n",
       "        vertical-align: middle;\n",
       "    }\n",
       "\n",
       "    .dataframe tbody tr th {\n",
       "        vertical-align: top;\n",
       "    }\n",
       "\n",
       "    .dataframe thead th {\n",
       "        text-align: right;\n",
       "    }\n",
       "</style>\n",
       "<table border=\"1\" class=\"dataframe\">\n",
       "  <thead>\n",
       "    <tr style=\"text-align: right;\">\n",
       "      <th></th>\n",
       "      <th>Cluster_1</th>\n",
       "      <th>Cluster_2</th>\n",
       "      <th>Cluster_3</th>\n",
       "      <th>Cluster_4</th>\n",
       "      <th>Cluster_5</th>\n",
       "      <th>Cluster_6</th>\n",
       "      <th>Cluster_7</th>\n",
       "      <th>Cluster_8</th>\n",
       "      <th>Cluster_9</th>\n",
       "      <th>Cluster_10</th>\n",
       "    </tr>\n",
       "  </thead>\n",
       "  <tbody>\n",
       "    <tr>\n",
       "      <th>0</th>\n",
       "      <td>place</td>\n",
       "      <td>crowds</td>\n",
       "      <td>queues</td>\n",
       "      <td>time</td>\n",
       "      <td>staff</td>\n",
       "      <td>small</td>\n",
       "      <td>line</td>\n",
       "      <td>cast</td>\n",
       "      <td>lines</td>\n",
       "      <td>closed</td>\n",
       "    </tr>\n",
       "    <tr>\n",
       "      <th>1</th>\n",
       "      <td>people</td>\n",
       "      <td>people</td>\n",
       "      <td>long</td>\n",
       "      <td>queue</td>\n",
       "      <td>rude</td>\n",
       "      <td>world</td>\n",
       "      <td>pass</td>\n",
       "      <td>members</td>\n",
       "      <td>long</td>\n",
       "      <td>attractions</td>\n",
       "    </tr>\n",
       "    <tr>\n",
       "      <th>2</th>\n",
       "      <td>food</td>\n",
       "      <td>time</td>\n",
       "      <td>food</td>\n",
       "      <td>hotel</td>\n",
       "      <td>people</td>\n",
       "      <td>time</td>\n",
       "      <td>fast</td>\n",
       "      <td>world</td>\n",
       "      <td>time</td>\n",
       "      <td>mountain</td>\n",
       "    </tr>\n",
       "    <tr>\n",
       "      <th>3</th>\n",
       "      <td>time</td>\n",
       "      <td>lines</td>\n",
       "      <td>queue</td>\n",
       "      <td>food</td>\n",
       "      <td>friendly</td>\n",
       "      <td>food</td>\n",
       "      <td>wait</td>\n",
       "      <td>time</td>\n",
       "      <td>people</td>\n",
       "      <td>open</td>\n",
       "    </tr>\n",
       "    <tr>\n",
       "      <th>4</th>\n",
       "      <td>expensive</td>\n",
       "      <td>went</td>\n",
       "      <td>time</td>\n",
       "      <td>old</td>\n",
       "      <td>food</td>\n",
       "      <td>better</td>\n",
       "      <td>time</td>\n",
       "      <td>people</td>\n",
       "      <td>food</td>\n",
       "      <td>time</td>\n",
       "    </tr>\n",
       "    <tr>\n",
       "      <th>5</th>\n",
       "      <td>crowded</td>\n",
       "      <td>times</td>\n",
       "      <td>expensive</td>\n",
       "      <td>people</td>\n",
       "      <td>time</td>\n",
       "      <td>attractions</td>\n",
       "      <td>minutes</td>\n",
       "      <td>rude</td>\n",
       "      <td>attractions</td>\n",
       "      <td>disappointed</td>\n",
       "    </tr>\n",
       "    <tr>\n",
       "      <th>6</th>\n",
       "      <td>don't</td>\n",
       "      <td>crowded</td>\n",
       "      <td>people</td>\n",
       "      <td>year</td>\n",
       "      <td>experience</td>\n",
       "      <td>experience</td>\n",
       "      <td>people</td>\n",
       "      <td>magic</td>\n",
       "      <td>crowded</td>\n",
       "      <td>thunder</td>\n",
       "    </tr>\n",
       "    <tr>\n",
       "      <th>7</th>\n",
       "      <td>enjoy</td>\n",
       "      <td>wait</td>\n",
       "      <td>attractions</td>\n",
       "      <td>characters</td>\n",
       "      <td>service</td>\n",
       "      <td>expensive</td>\n",
       "      <td>waiting</td>\n",
       "      <td>times</td>\n",
       "      <td>line</td>\n",
       "      <td>food</td>\n",
       "    </tr>\n",
       "    <tr>\n",
       "      <th>8</th>\n",
       "      <td>money</td>\n",
       "      <td>long</td>\n",
       "      <td>hour</td>\n",
       "      <td>went</td>\n",
       "      <td>french</td>\n",
       "      <td>orlando</td>\n",
       "      <td>hours</td>\n",
       "      <td>line</td>\n",
       "      <td>wait</td>\n",
       "      <td>visited</td>\n",
       "    </tr>\n",
       "    <tr>\n",
       "      <th>9</th>\n",
       "      <td>experience</td>\n",
       "      <td>don't</td>\n",
       "      <td>minutes</td>\n",
       "      <td>did</td>\n",
       "      <td>magic</td>\n",
       "      <td>worth</td>\n",
       "      <td>hour</td>\n",
       "      <td>don't</td>\n",
       "      <td>waiting</td>\n",
       "      <td>went</td>\n",
       "    </tr>\n",
       "  </tbody>\n",
       "</table>\n",
       "</div>"
      ],
      "text/plain": [
       "    Cluster_1 Cluster_2    Cluster_3   Cluster_4   Cluster_5    Cluster_6  \\\n",
       "0       place    crowds       queues        time       staff        small   \n",
       "1      people    people         long       queue        rude        world   \n",
       "2        food      time         food       hotel      people         time   \n",
       "3        time     lines        queue        food    friendly         food   \n",
       "4   expensive      went         time         old        food       better   \n",
       "5     crowded     times    expensive      people        time  attractions   \n",
       "6       don't   crowded       people        year  experience   experience   \n",
       "7       enjoy      wait  attractions  characters     service    expensive   \n",
       "8       money      long         hour        went      french      orlando   \n",
       "9  experience     don't      minutes         did       magic        worth   \n",
       "\n",
       "  Cluster_7 Cluster_8    Cluster_9    Cluster_10  \n",
       "0      line      cast        lines        closed  \n",
       "1      pass   members         long   attractions  \n",
       "2      fast     world         time      mountain  \n",
       "3      wait      time       people          open  \n",
       "4      time    people         food          time  \n",
       "5   minutes      rude  attractions  disappointed  \n",
       "6    people     magic      crowded       thunder  \n",
       "7   waiting     times         line          food  \n",
       "8     hours      line         wait       visited  \n",
       "9      hour     don't      waiting          went  "
      ]
     },
     "execution_count": 23,
     "metadata": {},
     "output_type": "execute_result"
    }
   ],
   "source": [
    "get_top_words(vectorizer_neg, kmeans)"
   ]
  },
  {
   "cell_type": "markdown",
   "id": "011081f6-ff75-490a-8e90-7e56058772cb",
   "metadata": {},
   "source": [
    "# SUMMARY"
   ]
  },
  {
   "cell_type": "markdown",
   "id": "5e6d899b-5466-4c57-95e0-05283e2546fe",
   "metadata": {},
   "source": [
    "- HEIRARCHICAL\n",
    "    - COMPLETE : Clusters are relatively the same for negative reviews KMeans, but with significantly longer runtime.\n",
    "    - WARD : Clusters are relatively the same for negative reviews KMeans, but with significantly longer runtime.\n",
    "    - Both methods fail to execute for the positive reviews dataset due to its size.\n",
    "<br><br>\n",
    "- OPTICS\n",
    "    - Run time is decent for both Positive and Negative Reviews\n",
    "    - The reachability plot does not show efficient clustering, the valleys are not evident in the plot.\n",
    "    - Not the best clustering method for Noisy Data like Bag of Words.\n",
    "<br><br>\n",
    "- SVD KMeans\n",
    "    - Reveals No Direct Improvement with Results and Run Time."
   ]
  }
 ],
 "metadata": {
  "kernelspec": {
   "display_name": "Python 3 (ipykernel)",
   "language": "python",
   "name": "python3"
  },
  "language_info": {
   "codemirror_mode": {
    "name": "ipython",
    "version": 3
   },
   "file_extension": ".py",
   "mimetype": "text/x-python",
   "name": "python",
   "nbconvert_exporter": "python",
   "pygments_lexer": "ipython3",
   "version": "3.10.12"
  }
 },
 "nbformat": 4,
 "nbformat_minor": 5
}
